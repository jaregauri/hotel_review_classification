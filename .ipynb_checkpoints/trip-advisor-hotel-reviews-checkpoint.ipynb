{
 "cells": [
  {
   "cell_type": "code",
   "execution_count": 1,
   "metadata": {
    "_cell_guid": "b1076dfc-b9ad-4769-8c92-a6c4dae69d19",
    "_uuid": "8f2839f25d086af736a60e9eeb907d3b93b6e0e5",
    "execution": {
     "iopub.execute_input": "2022-01-09T21:17:49.603390Z",
     "iopub.status.busy": "2022-01-09T21:17:49.602996Z",
     "iopub.status.idle": "2022-01-09T21:17:49.649136Z",
     "shell.execute_reply": "2022-01-09T21:17:49.648197Z",
     "shell.execute_reply.started": "2022-01-09T21:17:49.603278Z"
    }
   },
   "outputs": [],
   "source": [
    "# This Python 3 environment comes with many helpful analytics libraries installed\n",
    "# It is defined by the kaggle/python Docker image: https://github.com/kaggle/docker-python\n",
    "# For example, here's several helpful packages to load\n",
    "\n",
    "import numpy as np # linear algebra\n",
    "import pandas as pd # data processing, CSV file I/O (e.g. pd.read_csv)\n",
    "\n",
    "# Input data files are available in the read-only \"../input/\" directory\n",
    "# For example, running this (by clicking run or pressing Shift+Enter) will list all files under the input directory\n",
    "\n",
    "# import os\n",
    "# for dirname, _, filenames in os.walk('/kaggle/input'):\n",
    "#     for filename in filenames:\n",
    "#         print(os.path.join(dirname, filename))\n",
    "\n",
    "# You can write up to 20GB to the current directory (/kaggle/working/) that gets preserved as output when you create a version using \"Save & Run All\" \n",
    "# You can also write temporary files to /kaggle/temp/, but they won't be saved outside of the current session"
   ]
  },
  {
   "cell_type": "code",
   "execution_count": 2,
   "metadata": {},
   "outputs": [
    {
     "name": "stdout",
     "output_type": "stream",
     "text": [
      "Requirement already satisfied: bert-for-tf2 in /Users/gaurijare/opt/anaconda3/lib/python3.9/site-packages (0.14.9)\r\n",
      "Requirement already satisfied: params-flow>=0.8.0 in /Users/gaurijare/opt/anaconda3/lib/python3.9/site-packages (from bert-for-tf2) (0.8.2)\r\n",
      "Requirement already satisfied: py-params>=0.9.6 in /Users/gaurijare/opt/anaconda3/lib/python3.9/site-packages (from bert-for-tf2) (0.10.2)\r\n",
      "Requirement already satisfied: tqdm in /Users/gaurijare/opt/anaconda3/lib/python3.9/site-packages (from params-flow>=0.8.0->bert-for-tf2) (4.62.3)\r\n",
      "Requirement already satisfied: numpy in /Users/gaurijare/opt/anaconda3/lib/python3.9/site-packages (from params-flow>=0.8.0->bert-for-tf2) (1.20.3)\r\n"
     ]
    }
   ],
   "source": [
    "!conda install bert-for-tf2"
   ]
  },
  {
   "cell_type": "code",
   "execution_count": null,
   "metadata": {
    "execution": {
     "iopub.execute_input": "2022-01-09T21:40:05.146465Z",
     "iopub.status.busy": "2022-01-09T21:40:05.145239Z",
     "iopub.status.idle": "2022-01-09T21:40:05.160040Z",
     "shell.execute_reply": "2022-01-09T21:40:05.158863Z",
     "shell.execute_reply.started": "2022-01-09T21:40:05.146392Z"
    }
   },
   "outputs": [],
   "source": [
    "\n",
    "import tensorflow as tf\n",
    "from tensorflow.keras.preprocessing.text import Tokenizer\n",
    "from tensorflow.keras.preprocessing.sequence import pad_sequences\n",
    "import tensorflow.keras.layers as L\n",
    "from tensorflow.keras.losses import SparseCategoricalCrossentropy\n",
    "from tensorflow.keras.optimizers import Adam\n",
    "import math\n",
    "\n",
    "from sklearn.model_selection import train_test_split\n",
    "from sklearn.metrics import confusion_matrix, accuracy_score\n",
    "from sklearn.metrics import classification_report\n",
    "from sklearn.metrics import mean_absolute_error\n",
    "from sklearn.metrics import mean_squared_error\n",
    "\n",
    "import matplotlib.pyplot as plt\n",
    "from wordcloud import WordCloud \n",
    "import plotly.graph_objects as go\n",
    "import plotly.express as px\n",
    "import plotly.figure_factory as ff\n",
    "import seaborn as sns\n",
    "\n",
    "\n",
    "import numpy as np \n",
    "import pandas as pd\n",
    "\n",
    "import nltk\n",
    "from nltk.stem.porter import PorterStemmer\n",
    "from nltk.tokenize import TweetTokenizer\n",
    "from nltk.tokenize import word_tokenize \n",
    "from nltk.corpus import stopwords\n",
    "\n",
    "import random as rn\n",
    "\n",
    "import re\n",
    "from bs4 import BeautifulSoup\n",
    "import bert\n",
    "import tensorflow_hub as hub\n",
    "from tensorflow.keras import layers\n",
    "import matplotlib.pyplot as plt\n",
    "\n"
   ]
  },
  {
   "cell_type": "code",
   "execution_count": null,
   "metadata": {
    "execution": {
     "iopub.execute_input": "2022-01-09T16:56:38.602445Z",
     "iopub.status.busy": "2022-01-09T16:56:38.602129Z",
     "iopub.status.idle": "2022-01-09T16:56:38.788877Z",
     "shell.execute_reply": "2022-01-09T16:56:38.788003Z",
     "shell.execute_reply.started": "2022-01-09T16:56:38.60241Z"
    }
   },
   "outputs": [],
   "source": [
    "data = pd.read_csv('tripadvisor_hotel_reviews.csv')"
   ]
  },
  {
   "cell_type": "code",
   "execution_count": null,
   "metadata": {
    "execution": {
     "iopub.execute_input": "2022-01-09T16:56:46.281068Z",
     "iopub.status.busy": "2022-01-09T16:56:46.280188Z",
     "iopub.status.idle": "2022-01-09T16:56:46.287843Z",
     "shell.execute_reply": "2022-01-09T16:56:46.286903Z",
     "shell.execute_reply.started": "2022-01-09T16:56:46.281015Z"
    }
   },
   "outputs": [],
   "source": [
    "data['Review'][0]"
   ]
  },
  {
   "cell_type": "code",
   "execution_count": null,
   "metadata": {
    "execution": {
     "iopub.execute_input": "2022-01-09T16:56:50.55178Z",
     "iopub.status.busy": "2022-01-09T16:56:50.55125Z",
     "iopub.status.idle": "2022-01-09T16:56:50.56649Z",
     "shell.execute_reply": "2022-01-09T16:56:50.565735Z",
     "shell.execute_reply.started": "2022-01-09T16:56:50.551741Z"
    }
   },
   "outputs": [],
   "source": [
    "data.isna().sum()"
   ]
  },
  {
   "cell_type": "code",
   "execution_count": null,
   "metadata": {
    "execution": {
     "iopub.execute_input": "2022-01-09T16:56:57.359203Z",
     "iopub.status.busy": "2022-01-09T16:56:57.358301Z",
     "iopub.status.idle": "2022-01-09T16:56:57.368929Z",
     "shell.execute_reply": "2022-01-09T16:56:57.367724Z",
     "shell.execute_reply.started": "2022-01-09T16:56:57.359141Z"
    }
   },
   "outputs": [],
   "source": [
    "data['Rating'].unique()"
   ]
  },
  {
   "cell_type": "code",
   "execution_count": null,
   "metadata": {
    "execution": {
     "iopub.execute_input": "2022-01-09T16:57:00.120889Z",
     "iopub.status.busy": "2022-01-09T16:57:00.12008Z",
     "iopub.status.idle": "2022-01-09T16:57:00.129543Z",
     "shell.execute_reply": "2022-01-09T16:57:00.128668Z",
     "shell.execute_reply.started": "2022-01-09T16:57:00.120849Z"
    }
   },
   "outputs": [],
   "source": [
    "data['Rating'].value_counts()"
   ]
  },
  {
   "cell_type": "code",
   "execution_count": null,
   "metadata": {
    "execution": {
     "iopub.execute_input": "2022-01-09T16:57:02.789023Z",
     "iopub.status.busy": "2022-01-09T16:57:02.787939Z",
     "iopub.status.idle": "2022-01-09T16:57:02.998619Z",
     "shell.execute_reply": "2022-01-09T16:57:02.997509Z",
     "shell.execute_reply.started": "2022-01-09T16:57:02.788965Z"
    }
   },
   "outputs": [],
   "source": [
    "data['Rating'].value_counts().plot(kind = 'bar')"
   ]
  },
  {
   "cell_type": "code",
   "execution_count": null,
   "metadata": {
    "execution": {
     "iopub.execute_input": "2022-01-09T16:57:05.359006Z",
     "iopub.status.busy": "2022-01-09T16:57:05.358518Z",
     "iopub.status.idle": "2022-01-09T16:57:05.370007Z",
     "shell.execute_reply": "2022-01-09T16:57:05.368998Z",
     "shell.execute_reply.started": "2022-01-09T16:57:05.358967Z"
    }
   },
   "outputs": [],
   "source": [
    "from wordcloud import WordCloud\n",
    "import nltk\n",
    "nltk.download('stopwords')\n",
    "nltk.download('punkt')"
   ]
  },
  {
   "cell_type": "code",
   "execution_count": null,
   "metadata": {
    "execution": {
     "iopub.execute_input": "2022-01-09T16:57:07.749046Z",
     "iopub.status.busy": "2022-01-09T16:57:07.748706Z",
     "iopub.status.idle": "2022-01-09T16:57:31.671746Z",
     "shell.execute_reply": "2022-01-09T16:57:31.670976Z",
     "shell.execute_reply.started": "2022-01-09T16:57:07.749012Z"
    }
   },
   "outputs": [],
   "source": [
    "from nltk.corpus import stopwords\n",
    "from nltk.tokenize import word_tokenize\n",
    " \n",
    "example_sent = \" \".join(data.Review)\n",
    " \n",
    "stop_words = set(stopwords.words('english'))\n",
    " \n",
    "word_tokens = word_tokenize(example_sent)\n",
    " \n",
    "filtered_sentence = [w for w in word_tokens if not w.lower() in stop_words]\n",
    " \n",
    "filtered_sentence = []\n",
    " \n",
    "for w in word_tokens:\n",
    "    if w not in stop_words:\n",
    "        filtered_sentence.append(w)\n",
    " "
   ]
  },
  {
   "cell_type": "code",
   "execution_count": null,
   "metadata": {
    "execution": {
     "iopub.execute_input": "2022-01-09T16:57:38.413574Z",
     "iopub.status.busy": "2022-01-09T16:57:38.41258Z",
     "iopub.status.idle": "2022-01-09T16:58:02.532862Z",
     "shell.execute_reply": "2022-01-09T16:58:02.531856Z",
     "shell.execute_reply.started": "2022-01-09T16:57:38.413527Z"
    }
   },
   "outputs": [],
   "source": [
    "final = \" \".join(filtered_sentence)\n",
    "plt.subplots(figsize=(25,15))\n",
    "wordcloud = WordCloud(\n",
    "                          background_color='Black',\n",
    "                          width=1920,\n",
    "                          height=1080\n",
    "                         ).generate(final)\n",
    "plt.imshow(wordcloud)\n",
    "plt.axis('off')\n",
    "plt.savefig('cast.png')\n",
    "plt.show()"
   ]
  },
  {
   "cell_type": "code",
   "execution_count": null,
   "metadata": {
    "execution": {
     "iopub.execute_input": "2022-01-09T16:58:07.813275Z",
     "iopub.status.busy": "2022-01-09T16:58:07.812977Z",
     "iopub.status.idle": "2022-01-09T16:58:07.817784Z",
     "shell.execute_reply": "2022-01-09T16:58:07.816981Z",
     "shell.execute_reply.started": "2022-01-09T16:58:07.813239Z"
    }
   },
   "outputs": [],
   "source": [
    "x = data['Review']\n",
    "y = data['Rating']\n"
   ]
  },
  {
   "cell_type": "code",
   "execution_count": null,
   "metadata": {
    "execution": {
     "iopub.execute_input": "2022-01-09T16:58:14.868322Z",
     "iopub.status.busy": "2022-01-09T16:58:14.868031Z",
     "iopub.status.idle": "2022-01-09T16:58:20.255802Z",
     "shell.execute_reply": "2022-01-09T16:58:20.254836Z",
     "shell.execute_reply.started": "2022-01-09T16:58:14.868292Z"
    }
   },
   "outputs": [],
   "source": [
    "def clean(review):\n",
    "    review = re.sub(r'\\d+', ' ', review)\n",
    "    \n",
    "    review = review.split()\n",
    "    review = \" \".join([word for word in review if not word in stop_words])\n",
    "    return review\n",
    "\n",
    "stop_words = stopwords.words('english')\n",
    "X_clean = x.apply(clean)"
   ]
  },
  {
   "cell_type": "code",
   "execution_count": null,
   "metadata": {
    "execution": {
     "iopub.execute_input": "2022-01-09T16:58:23.763104Z",
     "iopub.status.busy": "2022-01-09T16:58:23.76257Z",
     "iopub.status.idle": "2022-01-09T16:58:23.772026Z",
     "shell.execute_reply": "2022-01-09T16:58:23.770936Z",
     "shell.execute_reply.started": "2022-01-09T16:58:23.763071Z"
    }
   },
   "outputs": [],
   "source": [
    "X_clean"
   ]
  },
  {
   "cell_type": "code",
   "execution_count": null,
   "metadata": {
    "execution": {
     "iopub.execute_input": "2022-01-09T16:58:30.309207Z",
     "iopub.status.busy": "2022-01-09T16:58:30.308914Z",
     "iopub.status.idle": "2022-01-09T16:58:32.457593Z",
     "shell.execute_reply": "2022-01-09T16:58:32.456945Z",
     "shell.execute_reply.started": "2022-01-09T16:58:30.309176Z"
    }
   },
   "outputs": [],
   "source": [
    "\n",
    "tokenizer = Tokenizer()\n",
    "\n",
    "# Updates internal vocabulary based on a list of texts. In the case where texts contains lists, we assume each entry of the lists to be a token.\n",
    "# Required before using texts_to_sequences or texts_to_matrix.\n",
    "tokenizer.fit_on_texts(X_clean)\n"
   ]
  },
  {
   "cell_type": "code",
   "execution_count": null,
   "metadata": {
    "execution": {
     "iopub.execute_input": "2022-01-09T16:58:38.510013Z",
     "iopub.status.busy": "2022-01-09T16:58:38.509448Z",
     "iopub.status.idle": "2022-01-09T16:58:39.979605Z",
     "shell.execute_reply": "2022-01-09T16:58:39.97887Z",
     "shell.execute_reply.started": "2022-01-09T16:58:38.50997Z"
    }
   },
   "outputs": [],
   "source": [
    "# Transforms each text in texts to a sequence of integers. Only top num_words-1 most frequent words will be taken into account. Only words known by the tokenizer will be taken into account.\n",
    "X = tokenizer.texts_to_sequences(X_clean)"
   ]
  },
  {
   "cell_type": "code",
   "execution_count": null,
   "metadata": {
    "execution": {
     "iopub.execute_input": "2022-01-09T16:58:43.532324Z",
     "iopub.status.busy": "2022-01-09T16:58:43.531774Z",
     "iopub.status.idle": "2022-01-09T16:58:43.536537Z",
     "shell.execute_reply": "2022-01-09T16:58:43.535756Z",
     "shell.execute_reply.started": "2022-01-09T16:58:43.532286Z"
    }
   },
   "outputs": [],
   "source": [
    "vocab_size = len(tokenizer.word_index)+1"
   ]
  },
  {
   "cell_type": "code",
   "execution_count": null,
   "metadata": {
    "execution": {
     "iopub.execute_input": "2022-01-09T16:58:46.211854Z",
     "iopub.status.busy": "2022-01-09T16:58:46.210977Z",
     "iopub.status.idle": "2022-01-09T16:58:46.219163Z",
     "shell.execute_reply": "2022-01-09T16:58:46.217895Z",
     "shell.execute_reply.started": "2022-01-09T16:58:46.211781Z"
    }
   },
   "outputs": [],
   "source": [
    "max_length = max([len(x) for x in X])"
   ]
  },
  {
   "cell_type": "markdown",
   "metadata": {
    "execution": {
     "iopub.execute_input": "2022-01-08T23:53:28.726953Z",
     "iopub.status.busy": "2022-01-08T23:53:28.726625Z",
     "iopub.status.idle": "2022-01-08T23:53:28.768967Z",
     "shell.execute_reply": "2022-01-08T23:53:28.768107Z",
     "shell.execute_reply.started": "2022-01-08T23:53:28.726922Z"
    }
   },
   "source": [
    "tokenizer.word_index"
   ]
  },
  {
   "cell_type": "code",
   "execution_count": null,
   "metadata": {
    "execution": {
     "iopub.execute_input": "2022-01-09T16:58:48.84587Z",
     "iopub.status.busy": "2022-01-09T16:58:48.845554Z",
     "iopub.status.idle": "2022-01-09T16:58:49.527843Z",
     "shell.execute_reply": "2022-01-09T16:58:49.526985Z",
     "shell.execute_reply.started": "2022-01-09T16:58:48.845839Z"
    }
   },
   "outputs": [],
   "source": [
    "exp_sen = 1\n",
    "print(\"Vocabulary size: {}\".format(vocab_size))\n",
    "print(\"max length of sentence: {}\".format(max_length))\n",
    "print(\"\\nExample:\\n\")\n",
    "print(\"Sentence:\\n{}\".format(X_clean[exp_sen]))\n",
    "print(\"\\nAfter tokenizing :\\n{}\".format(X[exp_sen]))\n",
    "\n",
    "X = pad_sequences(X, padding='post', maxlen=350)\n",
    "print(\"\\nAfter padding :\\n{}\".format(X[exp_sen]))"
   ]
  },
  {
   "cell_type": "code",
   "execution_count": null,
   "metadata": {
    "execution": {
     "iopub.execute_input": "2022-01-09T16:58:53.119607Z",
     "iopub.status.busy": "2022-01-09T16:58:53.11935Z",
     "iopub.status.idle": "2022-01-09T16:58:53.125474Z",
     "shell.execute_reply": "2022-01-09T16:58:53.124636Z",
     "shell.execute_reply.started": "2022-01-09T16:58:53.11958Z"
    }
   },
   "outputs": [],
   "source": [
    "len(X[exp_sen])"
   ]
  },
  {
   "cell_type": "code",
   "execution_count": null,
   "metadata": {
    "execution": {
     "iopub.execute_input": "2022-01-09T16:58:55.489746Z",
     "iopub.status.busy": "2022-01-09T16:58:55.489134Z",
     "iopub.status.idle": "2022-01-09T16:58:55.497026Z",
     "shell.execute_reply": "2022-01-09T16:58:55.496171Z",
     "shell.execute_reply.started": "2022-01-09T16:58:55.489685Z"
    }
   },
   "outputs": [],
   "source": [
    "len(X_clean[exp_sen])"
   ]
  },
  {
   "cell_type": "code",
   "execution_count": null,
   "metadata": {
    "execution": {
     "iopub.execute_input": "2022-01-09T16:58:57.427248Z",
     "iopub.status.busy": "2022-01-09T16:58:57.426696Z",
     "iopub.status.idle": "2022-01-09T16:58:57.434238Z",
     "shell.execute_reply": "2022-01-09T16:58:57.433633Z",
     "shell.execute_reply.started": "2022-01-09T16:58:57.427203Z"
    }
   },
   "outputs": [],
   "source": [
    "encoding = {1: 0,\n",
    "            2: 1,\n",
    "            3: 2,\n",
    "            4: 3,\n",
    "            5: 4\n",
    "           }\n",
    "\n",
    "labels = ['1', '2', '3', '4', '5']\n",
    "           \n",
    "y = data['Rating'].copy()\n",
    "y.replace(encoding, inplace=True)"
   ]
  },
  {
   "cell_type": "code",
   "execution_count": null,
   "metadata": {
    "execution": {
     "iopub.execute_input": "2022-01-09T16:59:23.073545Z",
     "iopub.status.busy": "2022-01-09T16:59:23.072761Z",
     "iopub.status.idle": "2022-01-09T16:59:23.106696Z",
     "shell.execute_reply": "2022-01-09T16:59:23.105847Z",
     "shell.execute_reply.started": "2022-01-09T16:59:23.073508Z"
    }
   },
   "outputs": [],
   "source": [
    "X_train, X_test, y_train, y_test = train_test_split(X, y, test_size=0.33, random_state=67, stratify=y)"
   ]
  },
  {
   "cell_type": "code",
   "execution_count": null,
   "metadata": {
    "execution": {
     "iopub.execute_input": "2022-01-09T16:59:31.515912Z",
     "iopub.status.busy": "2022-01-09T16:59:31.515599Z",
     "iopub.status.idle": "2022-01-09T16:59:32.085958Z",
     "shell.execute_reply": "2022-01-09T16:59:32.08513Z",
     "shell.execute_reply.started": "2022-01-09T16:59:31.515879Z"
    }
   },
   "outputs": [],
   "source": [
    "# hyper parameters\n",
    "EPOCHS = 3\n",
    "BATCH_SIZE = 100\n",
    "embedding_dim = 16\n",
    "units = 76\n",
    "\n",
    "model = tf.keras.Sequential([\n",
    "    L.Embedding(vocab_size, embedding_dim, input_length=X.shape[1]),\n",
    "    L.Bidirectional(L.LSTM(units,return_sequences=True)),\n",
    "    #L.LSTM(units,return_sequences=True),\n",
    "    L.Conv1D(64,3),\n",
    "    L.MaxPool1D(),\n",
    "    L.Flatten(),\n",
    "    L.Dropout(0.5),\n",
    "    L.Dense(128, activation=\"relu\"),\n",
    "    L.Dropout(0.5),\n",
    "    L.Dense(64, activation=\"relu\"),\n",
    "    L.Dropout(0.5),\n",
    "    L.Dense(5, activation=\"softmax\")\n",
    "])\n",
    "\n",
    "\n",
    "model.compile(loss=SparseCategoricalCrossentropy(),\n",
    "              optimizer='adam',metrics=['accuracy']\n",
    "             )\n",
    "\n",
    "model.summary()"
   ]
  },
  {
   "cell_type": "code",
   "execution_count": null,
   "metadata": {
    "execution": {
     "iopub.execute_input": "2022-01-09T16:59:38.539088Z",
     "iopub.status.busy": "2022-01-09T16:59:38.538726Z",
     "iopub.status.idle": "2022-01-09T17:03:47.466507Z",
     "shell.execute_reply": "2022-01-09T17:03:47.465623Z",
     "shell.execute_reply.started": "2022-01-09T16:59:38.539052Z"
    }
   },
   "outputs": [],
   "source": [
    "history = model.fit(X_train, y_train, epochs=EPOCHS, validation_split=0.12, batch_size=BATCH_SIZE, verbose=2)"
   ]
  },
  {
   "cell_type": "code",
   "execution_count": null,
   "metadata": {
    "execution": {
     "iopub.execute_input": "2022-01-09T17:05:56.965254Z",
     "iopub.status.busy": "2022-01-09T17:05:56.964693Z",
     "iopub.status.idle": "2022-01-09T17:06:23.248114Z",
     "shell.execute_reply": "2022-01-09T17:06:23.247402Z",
     "shell.execute_reply.started": "2022-01-09T17:05:56.965217Z"
    }
   },
   "outputs": [],
   "source": [
    "predict_x=model.predict(X_test) \n",
    "classes_x=np.argmax(predict_x,axis=1)\n"
   ]
  },
  {
   "cell_type": "code",
   "execution_count": null,
   "metadata": {
    "execution": {
     "iopub.execute_input": "2022-01-09T17:06:29.123583Z",
     "iopub.status.busy": "2022-01-09T17:06:29.122363Z",
     "iopub.status.idle": "2022-01-09T17:06:29.129892Z",
     "shell.execute_reply": "2022-01-09T17:06:29.129028Z",
     "shell.execute_reply.started": "2022-01-09T17:06:29.123527Z"
    }
   },
   "outputs": [],
   "source": [
    "classes_x"
   ]
  },
  {
   "cell_type": "code",
   "execution_count": null,
   "metadata": {
    "execution": {
     "iopub.execute_input": "2022-01-09T17:06:49.41456Z",
     "iopub.status.busy": "2022-01-09T17:06:49.414274Z",
     "iopub.status.idle": "2022-01-09T17:06:49.423744Z",
     "shell.execute_reply": "2022-01-09T17:06:49.422769Z",
     "shell.execute_reply.started": "2022-01-09T17:06:49.41453Z"
    }
   },
   "outputs": [],
   "source": [
    "accuracy_score(classes_x, y_test)"
   ]
  },
  {
   "cell_type": "code",
   "execution_count": null,
   "metadata": {
    "execution": {
     "iopub.execute_input": "2022-01-09T17:07:24.690718Z",
     "iopub.status.busy": "2022-01-09T17:07:24.689724Z",
     "iopub.status.idle": "2022-01-09T17:07:24.713922Z",
     "shell.execute_reply": "2022-01-09T17:07:24.713115Z",
     "shell.execute_reply.started": "2022-01-09T17:07:24.690651Z"
    }
   },
   "outputs": [],
   "source": [
    "print(classification_report(y_test, classes_x, target_names=labels))"
   ]
  },
  {
   "cell_type": "code",
   "execution_count": null,
   "metadata": {
    "execution": {
     "iopub.execute_input": "2022-01-09T21:18:28.410835Z",
     "iopub.status.busy": "2022-01-09T21:18:28.410529Z",
     "iopub.status.idle": "2022-01-09T21:18:28.847766Z",
     "shell.execute_reply": "2022-01-09T21:18:28.846851Z",
     "shell.execute_reply.started": "2022-01-09T21:18:28.410795Z"
    }
   },
   "outputs": [],
   "source": [
    "df = pd.read_csv('tripadvisor_hotel_reviews.csv')"
   ]
  },
  {
   "cell_type": "code",
   "execution_count": null,
   "metadata": {
    "execution": {
     "iopub.execute_input": "2022-01-09T21:18:30.056456Z",
     "iopub.status.busy": "2022-01-09T21:18:30.056120Z",
     "iopub.status.idle": "2022-01-09T21:18:30.084942Z",
     "shell.execute_reply": "2022-01-09T21:18:30.084050Z",
     "shell.execute_reply.started": "2022-01-09T21:18:30.056421Z"
    }
   },
   "outputs": [],
   "source": [
    "df['Rating'] = df['Rating'].apply(lambda x: 1 if x >= 2 else 0) "
   ]
  },
  {
   "cell_type": "code",
   "execution_count": null,
   "metadata": {
    "execution": {
     "iopub.execute_input": "2022-01-09T21:18:34.091095Z",
     "iopub.status.busy": "2022-01-09T21:18:34.090154Z",
     "iopub.status.idle": "2022-01-09T21:18:34.101792Z",
     "shell.execute_reply": "2022-01-09T21:18:34.100825Z",
     "shell.execute_reply.started": "2022-01-09T21:18:34.091053Z"
    }
   },
   "outputs": [],
   "source": [
    "positive = df[df['Rating'] == 1 ]\n",
    "negative = df[df['Rating'] == 0]"
   ]
  },
  {
   "cell_type": "code",
   "execution_count": null,
   "metadata": {
    "execution": {
     "iopub.execute_input": "2022-01-09T18:22:47.118447Z",
     "iopub.status.busy": "2022-01-09T18:22:47.117837Z",
     "iopub.status.idle": "2022-01-09T18:22:50.197567Z",
     "shell.execute_reply": "2022-01-09T18:22:50.196921Z",
     "shell.execute_reply.started": "2022-01-09T18:22:47.118408Z"
    }
   },
   "outputs": [],
   "source": [
    "plt.rcParams['figure.figsize'] = (10, 10)\n",
    "plt.style.use('fast')\n",
    "\n",
    "wc = WordCloud(background_color = 'orange', width = 1500, height = 1500).generate(str(positive['Review']))\n",
    "plt.title('Description Positive', fontsize = 15)\n",
    "\n",
    "plt.imshow(wc)\n",
    "plt.axis('off')\n",
    "plt.show()"
   ]
  },
  {
   "cell_type": "code",
   "execution_count": null,
   "metadata": {
    "execution": {
     "iopub.execute_input": "2022-01-09T18:22:50.19931Z",
     "iopub.status.busy": "2022-01-09T18:22:50.198826Z",
     "iopub.status.idle": "2022-01-09T18:22:52.933961Z",
     "shell.execute_reply": "2022-01-09T18:22:52.933282Z",
     "shell.execute_reply.started": "2022-01-09T18:22:50.199279Z"
    }
   },
   "outputs": [],
   "source": [
    "plt.rcParams['figure.figsize'] = (10, 10)\n",
    "plt.style.use('fast')\n",
    "\n",
    "wc = WordCloud(background_color = 'orange', width = 1500, height = 1500).generate(str(negative['Review']))\n",
    "plt.title('Description Negative', fontsize = 15)\n",
    "\n",
    "plt.imshow(wc)\n",
    "plt.axis('off')\n",
    "plt.show()"
   ]
  },
  {
   "cell_type": "code",
   "execution_count": null,
   "metadata": {
    "execution": {
     "iopub.execute_input": "2022-01-09T21:18:39.871542Z",
     "iopub.status.busy": "2022-01-09T21:18:39.870605Z",
     "iopub.status.idle": "2022-01-09T21:18:39.878007Z",
     "shell.execute_reply": "2022-01-09T21:18:39.876728Z",
     "shell.execute_reply.started": "2022-01-09T21:18:39.871487Z"
    }
   },
   "outputs": [],
   "source": [
    "def clean_t(t):\n",
    "    t = BeautifulSoup(t, 'lxml').get_text()\n",
    "    t = re.sub(r\"@[A-Za-z0-9]+\", ' ', t)\n",
    "    t = re.sub(r\"https?://[A-Za-z0-9./]+\", ' ', t)\n",
    "    t = re.sub(r\"[^a-zA-Z.!?]\", ' ', t)\n",
    "    t = re.sub(r\" +\", ' ', t)\n",
    "    return t"
   ]
  },
  {
   "cell_type": "code",
   "execution_count": null,
   "metadata": {
    "execution": {
     "iopub.execute_input": "2022-01-09T21:18:42.457708Z",
     "iopub.status.busy": "2022-01-09T21:18:42.457039Z",
     "iopub.status.idle": "2022-01-09T21:18:42.469670Z",
     "shell.execute_reply": "2022-01-09T21:18:42.468702Z",
     "shell.execute_reply.started": "2022-01-09T21:18:42.457658Z"
    }
   },
   "outputs": [],
   "source": [
    "test = '99 ' + df.Review[0]\n",
    "test"
   ]
  },
  {
   "cell_type": "code",
   "execution_count": null,
   "metadata": {
    "execution": {
     "iopub.execute_input": "2022-01-09T21:18:44.385319Z",
     "iopub.status.busy": "2022-01-09T21:18:44.384740Z",
     "iopub.status.idle": "2022-01-09T21:18:44.397102Z",
     "shell.execute_reply": "2022-01-09T21:18:44.396137Z",
     "shell.execute_reply.started": "2022-01-09T21:18:44.385273Z"
    }
   },
   "outputs": [],
   "source": [
    "result = clean_t(test)\n",
    "result"
   ]
  },
  {
   "cell_type": "code",
   "execution_count": null,
   "metadata": {
    "execution": {
     "iopub.execute_input": "2022-01-09T21:18:46.415808Z",
     "iopub.status.busy": "2022-01-09T21:18:46.415269Z",
     "iopub.status.idle": "2022-01-09T21:18:53.716063Z",
     "shell.execute_reply": "2022-01-09T21:18:53.715209Z",
     "shell.execute_reply.started": "2022-01-09T21:18:46.415742Z"
    }
   },
   "outputs": [],
   "source": [
    "data_clean = [clean_t(t) for t in df.Review]"
   ]
  },
  {
   "cell_type": "code",
   "execution_count": null,
   "metadata": {
    "execution": {
     "iopub.execute_input": "2022-01-09T21:20:10.561023Z",
     "iopub.status.busy": "2022-01-09T21:20:10.560637Z",
     "iopub.status.idle": "2022-01-09T21:20:49.928409Z",
     "shell.execute_reply": "2022-01-09T21:20:49.927204Z",
     "shell.execute_reply.started": "2022-01-09T21:20:10.560985Z"
    }
   },
   "outputs": [],
   "source": [
    "FullTokenizer = bert.bert_tokenization.FullTokenizer\n",
    "bert_layer = hub.KerasLayer('https://tfhub.dev/tensorflow/bert_en_uncased_L-24_H-1024_A-16/1', trainable=False)\n",
    "vocab_file = bert_layer.resolved_object.vocab_file.asset_path.numpy()\n",
    "do_lower_case = bert_layer.resolved_object.do_lower_case.numpy()\n",
    "tokenizer = FullTokenizer(vocab_file, do_lower_case)"
   ]
  },
  {
   "cell_type": "code",
   "execution_count": null,
   "metadata": {
    "execution": {
     "iopub.execute_input": "2022-01-09T21:20:49.931611Z",
     "iopub.status.busy": "2022-01-09T21:20:49.931177Z",
     "iopub.status.idle": "2022-01-09T21:20:49.938590Z",
     "shell.execute_reply": "2022-01-09T21:20:49.937868Z",
     "shell.execute_reply.started": "2022-01-09T21:20:49.931558Z"
    }
   },
   "outputs": [],
   "source": [
    "vocab_file"
   ]
  },
  {
   "cell_type": "code",
   "execution_count": null,
   "metadata": {
    "execution": {
     "iopub.execute_input": "2022-01-09T21:20:49.940599Z",
     "iopub.status.busy": "2022-01-09T21:20:49.940073Z",
     "iopub.status.idle": "2022-01-09T21:20:49.956242Z",
     "shell.execute_reply": "2022-01-09T21:20:49.955306Z",
     "shell.execute_reply.started": "2022-01-09T21:20:49.940558Z"
    }
   },
   "outputs": [],
   "source": [
    "len(tokenizer.vocab)"
   ]
  },
  {
   "cell_type": "code",
   "execution_count": null,
   "metadata": {
    "execution": {
     "iopub.execute_input": "2022-01-09T21:20:49.958951Z",
     "iopub.status.busy": "2022-01-09T21:20:49.958597Z",
     "iopub.status.idle": "2022-01-09T21:20:49.978432Z",
     "shell.execute_reply": "2022-01-09T21:20:49.977366Z",
     "shell.execute_reply.started": "2022-01-09T21:20:49.958916Z"
    }
   },
   "outputs": [],
   "source": [
    "tokenizer.tokenize('My dog likes strawberries.')"
   ]
  },
  {
   "cell_type": "code",
   "execution_count": null,
   "metadata": {
    "execution": {
     "iopub.execute_input": "2022-01-09T21:20:49.981387Z",
     "iopub.status.busy": "2022-01-09T21:20:49.981052Z",
     "iopub.status.idle": "2022-01-09T21:20:49.992553Z",
     "shell.execute_reply": "2022-01-09T21:20:49.991622Z",
     "shell.execute_reply.started": "2022-01-09T21:20:49.981338Z"
    }
   },
   "outputs": [],
   "source": [
    "tokenizer.convert_tokens_to_ids(tokenizer.tokenize('My dog likes strawberries.'))\n"
   ]
  },
  {
   "cell_type": "code",
   "execution_count": null,
   "metadata": {
    "execution": {
     "iopub.execute_input": "2022-01-09T21:20:49.994999Z",
     "iopub.status.busy": "2022-01-09T21:20:49.994325Z",
     "iopub.status.idle": "2022-01-09T21:20:50.007092Z",
     "shell.execute_reply": "2022-01-09T21:20:50.006103Z",
     "shell.execute_reply.started": "2022-01-09T21:20:49.994949Z"
    }
   },
   "outputs": [],
   "source": [
    "def encode_sentence(sent):\n",
    "    return tokenizer.convert_tokens_to_ids(tokenizer.tokenize(sent))"
   ]
  },
  {
   "cell_type": "code",
   "execution_count": null,
   "metadata": {
    "execution": {
     "iopub.execute_input": "2022-01-09T21:20:50.009244Z",
     "iopub.status.busy": "2022-01-09T21:20:50.008729Z",
     "iopub.status.idle": "2022-01-09T21:20:50.029597Z",
     "shell.execute_reply": "2022-01-09T21:20:50.028912Z",
     "shell.execute_reply.started": "2022-01-09T21:20:50.009208Z"
    }
   },
   "outputs": [],
   "source": [
    "encode_sentence('my dog likes strawberries')"
   ]
  },
  {
   "cell_type": "code",
   "execution_count": null,
   "metadata": {
    "execution": {
     "iopub.execute_input": "2022-01-09T21:20:50.031058Z",
     "iopub.status.busy": "2022-01-09T21:20:50.030739Z",
     "iopub.status.idle": "2022-01-09T21:21:56.594140Z",
     "shell.execute_reply": "2022-01-09T21:21:56.593092Z",
     "shell.execute_reply.started": "2022-01-09T21:20:50.031021Z"
    }
   },
   "outputs": [],
   "source": [
    "data_inputs = [encode_sentence(sentence) for sentence in data_clean]"
   ]
  },
  {
   "cell_type": "code",
   "execution_count": null,
   "metadata": {
    "execution": {
     "iopub.execute_input": "2022-01-09T21:21:56.595818Z",
     "iopub.status.busy": "2022-01-09T21:21:56.595542Z",
     "iopub.status.idle": "2022-01-09T21:21:56.606993Z",
     "shell.execute_reply": "2022-01-09T21:21:56.606042Z",
     "shell.execute_reply.started": "2022-01-09T21:21:56.595783Z"
    }
   },
   "outputs": [],
   "source": [
    "data_labels = df.iloc[:,1].values\n",
    "data_labels"
   ]
  },
  {
   "cell_type": "code",
   "execution_count": null,
   "metadata": {
    "execution": {
     "iopub.execute_input": "2022-01-09T21:21:56.609378Z",
     "iopub.status.busy": "2022-01-09T21:21:56.608749Z",
     "iopub.status.idle": "2022-01-09T21:21:56.641133Z",
     "shell.execute_reply": "2022-01-09T21:21:56.640130Z",
     "shell.execute_reply.started": "2022-01-09T21:21:56.609335Z"
    }
   },
   "outputs": [],
   "source": [
    "data_with_len = [[sent, data_labels[i], len(sent)]\n",
    "                 for i, sent in enumerate(data_inputs)]"
   ]
  },
  {
   "cell_type": "code",
   "execution_count": null,
   "metadata": {
    "execution": {
     "iopub.execute_input": "2022-01-09T21:21:56.642983Z",
     "iopub.status.busy": "2022-01-09T21:21:56.642684Z",
     "iopub.status.idle": "2022-01-09T21:21:56.689145Z",
     "shell.execute_reply": "2022-01-09T21:21:56.687866Z",
     "shell.execute_reply.started": "2022-01-09T21:21:56.642950Z"
    }
   },
   "outputs": [],
   "source": [
    "rn.shuffle(data_with_len)\n",
    "data_with_len.sort(key=lambda x: x[2])\n"
   ]
  },
  {
   "cell_type": "code",
   "execution_count": null,
   "metadata": {
    "execution": {
     "iopub.execute_input": "2022-01-09T21:21:56.690996Z",
     "iopub.status.busy": "2022-01-09T21:21:56.690712Z",
     "iopub.status.idle": "2022-01-09T21:21:56.724173Z",
     "shell.execute_reply": "2022-01-09T21:21:56.722929Z",
     "shell.execute_reply.started": "2022-01-09T21:21:56.690961Z"
    }
   },
   "outputs": [],
   "source": [
    "sorted_all = [(sent_lab[0], sent_lab[1])\n",
    "              for sent_lab in data_with_len if sent_lab[2] > 7]"
   ]
  },
  {
   "cell_type": "code",
   "execution_count": null,
   "metadata": {
    "execution": {
     "iopub.execute_input": "2022-01-09T21:21:56.726407Z",
     "iopub.status.busy": "2022-01-09T21:21:56.725905Z",
     "iopub.status.idle": "2022-01-09T21:21:56.782195Z",
     "shell.execute_reply": "2022-01-09T21:21:56.781244Z",
     "shell.execute_reply.started": "2022-01-09T21:21:56.726371Z"
    }
   },
   "outputs": [],
   "source": [
    "all_dataset = tf.data.Dataset.from_generator(lambda: sorted_all,\n",
    "                                             output_types = (tf.int32, tf.int32))"
   ]
  },
  {
   "cell_type": "code",
   "execution_count": null,
   "metadata": {
    "execution": {
     "iopub.execute_input": "2022-01-09T21:21:56.787358Z",
     "iopub.status.busy": "2022-01-09T21:21:56.786850Z",
     "iopub.status.idle": "2022-01-09T21:21:56.925508Z",
     "shell.execute_reply": "2022-01-09T21:21:56.924467Z",
     "shell.execute_reply.started": "2022-01-09T21:21:56.787304Z"
    }
   },
   "outputs": [],
   "source": [
    "next(iter(all_dataset))"
   ]
  },
  {
   "cell_type": "code",
   "execution_count": null,
   "metadata": {
    "execution": {
     "iopub.execute_input": "2022-01-09T21:21:56.927591Z",
     "iopub.status.busy": "2022-01-09T21:21:56.927158Z",
     "iopub.status.idle": "2022-01-09T21:21:56.937705Z",
     "shell.execute_reply": "2022-01-09T21:21:56.936856Z",
     "shell.execute_reply.started": "2022-01-09T21:21:56.927544Z"
    }
   },
   "outputs": [],
   "source": [
    "BATCH_SIZE = 32\n",
    "all_batched = all_dataset.padded_batch(BATCH_SIZE, padded_shapes=((None, ), ()))"
   ]
  },
  {
   "cell_type": "code",
   "execution_count": null,
   "metadata": {
    "execution": {
     "iopub.execute_input": "2022-01-09T21:21:56.939428Z",
     "iopub.status.busy": "2022-01-09T21:21:56.939021Z",
     "iopub.status.idle": "2022-01-09T21:21:56.952898Z",
     "shell.execute_reply": "2022-01-09T21:21:56.951773Z",
     "shell.execute_reply.started": "2022-01-09T21:21:56.939397Z"
    }
   },
   "outputs": [],
   "source": [
    "len(sorted_all)"
   ]
  },
  {
   "cell_type": "code",
   "execution_count": null,
   "metadata": {
    "execution": {
     "iopub.execute_input": "2022-01-09T21:21:56.954908Z",
     "iopub.status.busy": "2022-01-09T21:21:56.954450Z",
     "iopub.status.idle": "2022-01-09T21:21:56.968805Z",
     "shell.execute_reply": "2022-01-09T21:21:56.968077Z",
     "shell.execute_reply.started": "2022-01-09T21:21:56.954767Z"
    }
   },
   "outputs": [],
   "source": [
    "NB_BATCHES = len(sorted_all) // BATCH_SIZE\n",
    "NB_BATCHES"
   ]
  },
  {
   "cell_type": "code",
   "execution_count": null,
   "metadata": {
    "execution": {
     "iopub.execute_input": "2022-01-09T21:21:56.970433Z",
     "iopub.status.busy": "2022-01-09T21:21:56.969777Z",
     "iopub.status.idle": "2022-01-09T21:21:56.985245Z",
     "shell.execute_reply": "2022-01-09T21:21:56.984202Z",
     "shell.execute_reply.started": "2022-01-09T21:21:56.970352Z"
    }
   },
   "outputs": [],
   "source": [
    "NB_BATCHES_TEST = NB_BATCHES // 10\n",
    "NB_BATCHES_TEST"
   ]
  },
  {
   "cell_type": "code",
   "execution_count": null,
   "metadata": {
    "execution": {
     "iopub.execute_input": "2022-01-09T21:21:56.987437Z",
     "iopub.status.busy": "2022-01-09T21:21:56.986456Z",
     "iopub.status.idle": "2022-01-09T21:21:57.005228Z",
     "shell.execute_reply": "2022-01-09T21:21:57.004242Z",
     "shell.execute_reply.started": "2022-01-09T21:21:56.987393Z"
    }
   },
   "outputs": [],
   "source": [
    "all_batched.shuffle(NB_BATCHES)\n",
    "test_dataset = all_batched.take(NB_BATCHES_TEST)\n",
    "train_dataset = all_batched.skip(NB_BATCHES_TEST)"
   ]
  },
  {
   "cell_type": "code",
   "execution_count": null,
   "metadata": {
    "execution": {
     "iopub.execute_input": "2022-01-09T21:21:57.009088Z",
     "iopub.status.busy": "2022-01-09T21:21:57.008711Z",
     "iopub.status.idle": "2022-01-09T21:21:57.023447Z",
     "shell.execute_reply": "2022-01-09T21:21:57.022600Z",
     "shell.execute_reply.started": "2022-01-09T21:21:57.009043Z"
    }
   },
   "outputs": [],
   "source": [
    "class DCNN(tf.keras.Model):\n",
    "    def __init__(self,\n",
    "               vocab_size,\n",
    "               emb_dim=128,\n",
    "               nb_filters = 50,\n",
    "               FFN_units=512,\n",
    "               nb_classes=2,\n",
    "               dropout_rate=0.1,\n",
    "               training=False,\n",
    "               name=\"dcnn\"):\n",
    "        super(DCNN, self).__init__(name=name)\n",
    "\n",
    "        self.embedding = layers.Embedding(vocab_size, emb_dim)\n",
    "\n",
    "        self.bigram = layers.Conv1D(filters = nb_filters,\n",
    "                                kernel_size = 2,\n",
    "                                padding='valid',\n",
    "                                activation='relu')\n",
    "        self.trigram = layers.Conv1D(filters = nb_filters,\n",
    "                                kernel_size = 3,\n",
    "                                padding='valid',\n",
    "                                activation='relu')\n",
    "        self.fourgram = layers.Conv1D(filters = nb_filters,\n",
    "                                kernel_size = 4,\n",
    "                                padding='valid',\n",
    "                                activation='relu')\n",
    "    \n",
    "        self.pool = layers.GlobalMaxPool1D()\n",
    "\n",
    "        self.dense_1 = layers.Dense(units = FFN_units, activation='relu')\n",
    "        self.dropout = layers.Dropout(rate=dropout_rate)\n",
    "        if nb_classes == 2:\n",
    "              self.last_dense = layers.Dense(units=1, activation='sigmoid')\n",
    "        else:\n",
    "              self.last_dense = layers.Dense(units=nb_classes, activation='softmax')\n",
    "\n",
    "    def call(self, inputs, training):\n",
    "        x = self.embedding(inputs)\n",
    "        x_1 = self.bigram(x)\n",
    "        x_1 = self.pool(x_1)\n",
    "        x_2 = self.trigram(x)\n",
    "        x_2 = self.pool(x_2)\n",
    "        x_3 = self.fourgram(x)\n",
    "        x_3 = self.pool(x_3)\n",
    "\n",
    "        merged = tf.concat([x_1, x_2, x_3], axis = -1)\n",
    "        merged = self.dense_1(merged)\n",
    "        merged = self.dropout(merged, training)\n",
    "        output = self.last_dense(merged)\n",
    "\n",
    "        return output"
   ]
  },
  {
   "cell_type": "code",
   "execution_count": null,
   "metadata": {
    "execution": {
     "iopub.execute_input": "2022-01-09T21:21:57.025588Z",
     "iopub.status.busy": "2022-01-09T21:21:57.025104Z",
     "iopub.status.idle": "2022-01-09T21:21:57.044682Z",
     "shell.execute_reply": "2022-01-09T21:21:57.043806Z",
     "shell.execute_reply.started": "2022-01-09T21:21:57.025538Z"
    }
   },
   "outputs": [],
   "source": [
    "VOCAB_SIZE = len(tokenizer.vocab)\n",
    "EMB_DIM = 200\n",
    "NB_FILTERS = 100\n",
    "FFN_UNITS = 256\n",
    "NB_CLASSES = 2\n",
    "DROPOUT_RATE = 0.2\n",
    "NB_EPOCHS = 12"
   ]
  },
  {
   "cell_type": "code",
   "execution_count": null,
   "metadata": {
    "execution": {
     "iopub.execute_input": "2022-01-09T21:21:57.047134Z",
     "iopub.status.busy": "2022-01-09T21:21:57.046230Z",
     "iopub.status.idle": "2022-01-09T21:21:57.084336Z",
     "shell.execute_reply": "2022-01-09T21:21:57.083678Z",
     "shell.execute_reply.started": "2022-01-09T21:21:57.047082Z"
    }
   },
   "outputs": [],
   "source": [
    "Dcnn = DCNN(vocab_size=VOCAB_SIZE,\n",
    "            emb_dim=EMB_DIM,\n",
    "            nb_filters = NB_FILTERS,\n",
    "            FFN_units = FFN_UNITS,\n",
    "            nb_classes = NB_CLASSES,\n",
    "            dropout_rate = DROPOUT_RATE)"
   ]
  },
  {
   "cell_type": "code",
   "execution_count": null,
   "metadata": {
    "execution": {
     "iopub.execute_input": "2022-01-09T21:21:57.086298Z",
     "iopub.status.busy": "2022-01-09T21:21:57.085811Z",
     "iopub.status.idle": "2022-01-09T21:21:57.111136Z",
     "shell.execute_reply": "2022-01-09T21:21:57.110516Z",
     "shell.execute_reply.started": "2022-01-09T21:21:57.086263Z"
    }
   },
   "outputs": [],
   "source": [
    "if NB_CLASSES == 2:\n",
    "      Dcnn.compile(loss='binary_crossentropy', optimizer='adam', metrics=['accuracy'])\n",
    "else:\n",
    "      Dcnn.compile(loss='sparse_categorical_crossentropy', optimizer='adam', metrics=['sparse_categorical_accuracy'])"
   ]
  },
  {
   "cell_type": "code",
   "execution_count": null,
   "metadata": {
    "execution": {
     "iopub.execute_input": "2022-01-09T21:21:57.113065Z",
     "iopub.status.busy": "2022-01-09T21:21:57.112573Z",
     "iopub.status.idle": "2022-01-09T21:38:06.175471Z",
     "shell.execute_reply": "2022-01-09T21:38:06.174289Z",
     "shell.execute_reply.started": "2022-01-09T21:21:57.113028Z"
    }
   },
   "outputs": [],
   "source": [
    "history = Dcnn.fit(train_dataset,\n",
    "                   epochs=NB_EPOCHS)"
   ]
  },
  {
   "cell_type": "code",
   "execution_count": null,
   "metadata": {
    "execution": {
     "iopub.execute_input": "2022-01-09T21:38:06.178427Z",
     "iopub.status.busy": "2022-01-09T21:38:06.177381Z",
     "iopub.status.idle": "2022-01-09T21:38:06.185911Z",
     "shell.execute_reply": "2022-01-09T21:38:06.184926Z",
     "shell.execute_reply.started": "2022-01-09T21:38:06.178386Z"
    }
   },
   "outputs": [],
   "source": [
    "history.history.keys()"
   ]
  },
  {
   "cell_type": "code",
   "execution_count": null,
   "metadata": {
    "execution": {
     "iopub.execute_input": "2022-01-09T21:38:06.188169Z",
     "iopub.status.busy": "2022-01-09T21:38:06.187574Z",
     "iopub.status.idle": "2022-01-09T21:38:06.484880Z",
     "shell.execute_reply": "2022-01-09T21:38:06.483649Z",
     "shell.execute_reply.started": "2022-01-09T21:38:06.188112Z"
    }
   },
   "outputs": [],
   "source": [
    "plt.plot(history.history['loss'])\n",
    "plt.title('Loss progress');"
   ]
  },
  {
   "cell_type": "code",
   "execution_count": null,
   "metadata": {
    "execution": {
     "iopub.execute_input": "2022-01-09T21:38:06.486914Z",
     "iopub.status.busy": "2022-01-09T21:38:06.486502Z",
     "iopub.status.idle": "2022-01-09T21:38:06.714436Z",
     "shell.execute_reply": "2022-01-09T21:38:06.713525Z",
     "shell.execute_reply.started": "2022-01-09T21:38:06.486875Z"
    }
   },
   "outputs": [],
   "source": [
    "plt.plot(history.history['accuracy'])\n",
    "plt.title('Accuracy progress');"
   ]
  },
  {
   "cell_type": "code",
   "execution_count": null,
   "metadata": {
    "execution": {
     "iopub.execute_input": "2022-01-09T21:38:06.716006Z",
     "iopub.status.busy": "2022-01-09T21:38:06.715764Z",
     "iopub.status.idle": "2022-01-09T21:38:08.290951Z",
     "shell.execute_reply": "2022-01-09T21:38:08.289936Z",
     "shell.execute_reply.started": "2022-01-09T21:38:06.715977Z"
    }
   },
   "outputs": [],
   "source": [
    "results = Dcnn.evaluate(test_dataset)\n",
    "print(results)"
   ]
  },
  {
   "cell_type": "code",
   "execution_count": null,
   "metadata": {
    "execution": {
     "iopub.execute_input": "2022-01-09T21:38:08.293255Z",
     "iopub.status.busy": "2022-01-09T21:38:08.292600Z",
     "iopub.status.idle": "2022-01-09T21:38:08.300701Z",
     "shell.execute_reply": "2022-01-09T21:38:08.299845Z",
     "shell.execute_reply.started": "2022-01-09T21:38:08.293206Z"
    }
   },
   "outputs": [],
   "source": [
    "def get_prediction(sentence):\n",
    "    tokens = encode_sentence(sentence)\n",
    "    inputs = tf.expand_dims(tokens, 0)\n",
    "    output = Dcnn(inputs, training=False)\n",
    "    sentiment = math.floor(output*2)\n",
    "    if sentiment == 0:\n",
    "        print('negative')\n",
    "    elif sentiment == 1:\n",
    "        print('positive')"
   ]
  },
  {
   "cell_type": "code",
   "execution_count": null,
   "metadata": {
    "execution": {
     "iopub.execute_input": "2022-01-09T21:40:16.576078Z",
     "iopub.status.busy": "2022-01-09T21:40:16.575240Z",
     "iopub.status.idle": "2022-01-09T21:40:16.604562Z",
     "shell.execute_reply": "2022-01-09T21:40:16.602642Z",
     "shell.execute_reply.started": "2022-01-09T21:40:16.576004Z"
    }
   },
   "outputs": [],
   "source": [
    "get_prediction('This movie was pretty interesting')\n"
   ]
  },
  {
   "cell_type": "code",
   "execution_count": null,
   "metadata": {
    "execution": {
     "iopub.execute_input": "2022-01-09T21:40:16.607152Z",
     "iopub.status.busy": "2022-01-09T21:40:16.606852Z",
     "iopub.status.idle": "2022-01-09T21:40:16.623464Z",
     "shell.execute_reply": "2022-01-09T21:40:16.622258Z",
     "shell.execute_reply.started": "2022-01-09T21:40:16.607120Z"
    }
   },
   "outputs": [],
   "source": [
    "get_prediction(\"I'd rather not do that again\")\n"
   ]
  },
  {
   "cell_type": "code",
   "execution_count": null,
   "metadata": {
    "execution": {
     "iopub.execute_input": "2022-01-09T21:40:16.626599Z",
     "iopub.status.busy": "2022-01-09T21:40:16.625279Z",
     "iopub.status.idle": "2022-01-09T21:40:16.647906Z",
     "shell.execute_reply": "2022-01-09T21:40:16.646855Z",
     "shell.execute_reply.started": "2022-01-09T21:40:16.626536Z"
    }
   },
   "outputs": [],
   "source": [
    "get_prediction(\"I don't like you\")"
   ]
  }
 ],
 "metadata": {
  "kernelspec": {
   "display_name": "Python 3 (ipykernel)",
   "language": "python",
   "name": "python3"
  },
  "language_info": {
   "codemirror_mode": {
    "name": "ipython",
    "version": 3
   },
   "file_extension": ".py",
   "mimetype": "text/x-python",
   "name": "python",
   "nbconvert_exporter": "python",
   "pygments_lexer": "ipython3",
   "version": "3.9.7"
  }
 },
 "nbformat": 4,
 "nbformat_minor": 4
}
